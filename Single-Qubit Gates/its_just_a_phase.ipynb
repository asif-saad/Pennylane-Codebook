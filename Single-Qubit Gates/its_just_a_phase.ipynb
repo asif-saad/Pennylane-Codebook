{
 "cells": [
  {
   "cell_type": "markdown",
   "metadata": {},
   "source": [
    "### The Pauli Z gate"
   ]
  },
  {
   "cell_type": "code",
   "execution_count": null,
   "metadata": {},
   "outputs": [],
   "source": [
    "dev = qml.device(\"default.qubit\", wires=1)\n",
    "\n",
    "\n",
    "@qml.qnode(dev)\n",
    "def apply_z_to_plus():\n",
    "    \"\"\"Write a circuit that applies PauliZ to the |+> state and returns\n",
    "    the measurement outcome probabilities.\n",
    "    \"\"\"\n",
    "    ##################\n",
    "    # YOUR CODE HERE #\n",
    "    ##################\n",
    "\n",
    "    # CREATE THE |+> STATE\n",
    "    qml.Hadamard(wires=0)\n",
    "\n",
    "    # APPLY PAULI Z\n",
    "    qml.PauliZ(wires=0)\n",
    "\n",
    "    # RETURN THE STATE\n",
    "    return qml.state()"
   ]
  },
  {
   "cell_type": "markdown",
   "metadata": {},
   "source": [
    "### The Z Rotation"
   ]
  },
  {
   "cell_type": "code",
   "execution_count": null,
   "metadata": {},
   "outputs": [],
   "source": [
    "dev = qml.device(\"default.qubit\", wires=1)\n",
    "\n",
    "\n",
    "@qml.qnode(dev)\n",
    "def fake_z():\n",
    "    \"\"\"Use RZ to produce the same action as Pauli Z on the |+> state.\"\"\"\n",
    "    ##################\n",
    "    # YOUR CODE HERE #\n",
    "    ##################\n",
    "\n",
    "    # CREATE THE |+> STATE\n",
    "    qml.Hadamard(wires=0)\n",
    "\n",
    "    # APPLY RZ\n",
    "    qml.RZ(np.pi, wires=0)\n",
    "\n",
    "    # RETURN THE STATE\n",
    "    return qml.state()\n"
   ]
  },
  {
   "cell_type": "markdown",
   "metadata": {},
   "source": [
    "### The S and T gates"
   ]
  },
  {
   "cell_type": "code",
   "execution_count": null,
   "metadata": {},
   "outputs": [],
   "source": [
    "dev = qml.device(\"default.qubit\", wires=1)\n",
    "\n",
    "\n",
    "@qml.qnode(dev)\n",
    "def many_rotations():\n",
    "    \"\"\"Implement the circuit depicted above and return the quantum state.\"\"\"\n",
    "    qml.Hadamard(0)\n",
    "    qml.S(0)\n",
    "    qml.adjoint(qml.T(0))\n",
    "    qml.RZ(0.3, wires=0)\n",
    "    qml.adjoint(qml.S(0))\n",
    "\n",
    "    # RETURN THE STATE\n",
    "\n",
    "    return qml.state()\n"
   ]
  }
 ],
 "metadata": {
  "kernelspec": {
   "display_name": "Python 3",
   "language": "python",
   "name": "python3"
  },
  "language_info": {
   "name": "python",
   "version": "3.10.0"
  }
 },
 "nbformat": 4,
 "nbformat_minor": 2
}
