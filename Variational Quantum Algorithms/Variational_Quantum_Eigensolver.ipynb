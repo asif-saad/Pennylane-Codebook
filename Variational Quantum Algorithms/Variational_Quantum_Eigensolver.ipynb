{
 "cells": [
  {
   "cell_type": "markdown",
   "metadata": {},
   "source": [
    "### Codercise V.2.1 - Introduction to VQE"
   ]
  },
  {
   "cell_type": "code",
   "execution_count": null,
   "metadata": {},
   "outputs": [],
   "source": [
    "n_bits = 2\n",
    "dev = qml.device(\"default.qubit\", wires=n_bits, shots=None)\n",
    "np.random.seed(41)\n",
    "def build_hamiltonian():\n",
    "    \"\"\"Build the Hamiltonian.\n",
    "\n",
    "    Returns:\n",
    "        (qml.Hamiltonian): Hamiltonian operator.\n",
    "    \"\"\"\n",
    "    ##################\n",
    "    # YOUR CODE HERE #\n",
    "    ##################\n",
    "    coeffs = np.array([1,-1])\n",
    "    ops = [qml.operation.Tensor (qml.PauliZ(0), qml.PauliZ(1)),\n",
    "           qml.operation.Tensor (qml.PauliX(0), qml.PauliX(1))]\n",
    "    return qml.dot(coeffs, ops)\n",
    "def run_vqe():\n",
    "    \"\"\"Run VQE algorithm with initial parameters defined by the user.\n",
    "\n",
    "    Returns:\n",
    "        array(float): Ground state energy of the Hamiltonian.\n",
    "    \"\"\"\n",
    "    ##################\n",
    "    # YOUR CODE HERE #\n",
    "    ##################\n",
    "# Build the Hamiltonian using the build_hamiltonian function\n",
    "    h = build_hamiltonian()\n",
    "    shape = qml.StronglyEntanglingLayers.shape(n_layers=1, n_wires=n_bits)\n",
    "    params = np.random.random(size=shape)\n",
    "    params = optimizer(h,params)\n",
    "    ground_energy = cost_function(h,params)\n",
    "    return ground_energy\n"
   ]
  }
 ],
 "metadata": {
  "kernelspec": {
   "display_name": "Python 3",
   "language": "python",
   "name": "python3"
  },
  "language_info": {
   "name": "python",
   "version": "3.10.0"
  }
 },
 "nbformat": 4,
 "nbformat_minor": 2
}
