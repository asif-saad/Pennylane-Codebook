{
 "cells": [
  {
   "cell_type": "markdown",
   "metadata": {},
   "source": [
    "### Codercise H.4.1a - Evolution of two qubits"
   ]
  },
  {
   "cell_type": "code",
   "execution_count": null,
   "metadata": {},
   "outputs": [],
   "source": [
    "n_bits = 2\n",
    "dev = qml.device(\"default.qubit\", wires=n_bits)\n",
    "\n",
    "@qml.qnode(dev)\n",
    "def zz_circuit(alpha, time, init):\n",
    "    \"\"\"Circuit for evolving two electrons with a ZZ interaction.\n",
    "    \n",
    "    Args:\n",
    "        alpha (float): The strength of the interaction.\n",
    "        time (float): The time we evolve the electron wavefunction for.\n",
    "        init (numpy.array(int)): An initial state specified by two bits [x, y]. Prepare the\n",
    "            system in this state prior to applying the time evolution circuit.\n",
    "\n",
    "    Returns: \n",
    "        array[float]: Probabilities for observing different outcomes.\n",
    "    \"\"\"\n",
    "\n",
    "    ##################\n",
    "    # YOUR CODE HERE #\n",
    "    ##################\n",
    "    qml.BasisState(init,wires=range(n_bits))\n",
    "    qml.CNOT(wires=[0,1])\n",
    "    qml.RZ(2*alpha*time,wires=1)\n",
    "    qml.CNOT(wires=[0,1])\n",
    "    return qml.probs(wires=range(n_bits))\n"
   ]
  },
  {
   "cell_type": "markdown",
   "metadata": {},
   "source": [
    "### Codercise H.4.1b - An Ising gate"
   ]
  },
  {
   "cell_type": "code",
   "execution_count": null,
   "metadata": {},
   "outputs": [],
   "source": [
    "n_bits = 2\n",
    "dev = qml.device(\"default.qubit\", wires=n_bits)\n",
    "\n",
    "@qml.qnode(dev)\n",
    "def ising_circuit(alpha, time, init):\n",
    "    \"\"\"Circuit for evolving two electrons with a ZZ interaction\n",
    "    using an Ising gate\n",
    "    \n",
    "    Args:\n",
    "        alpha (float): The strength of the interaction.\n",
    "        time (float): The time we evolve the electron wavefunction for.\n",
    "        init (numpy.array(int)): An initial state specified by two bits [x, y]. Prepare the\n",
    "            system in this state prior to applying the time evolution circuit.\n",
    "\n",
    "    Returns: \n",
    "        np.tensor: Output state.\n",
    "    \"\"\"\n",
    "    ##################\n",
    "    # YOUR CODE HERE #\n",
    "    ##################\n",
    "    qml.BasisState(init,wires=range(n_bits))\n",
    "    qml.IsingZZ(phi=2*alpha*time,wires=range(n_bits))\n",
    "    return qml.state()\n"
   ]
  },
  {
   "cell_type": "markdown",
   "metadata": {},
   "source": [
    "### Codercise H.4.1c - Built-in evolution"
   ]
  },
  {
   "cell_type": "code",
   "execution_count": null,
   "metadata": {},
   "outputs": [],
   "source": []
  },
  {
   "cell_type": "markdown",
   "metadata": {},
   "source": [
    "### Codercise H.4.2a - Building the Graph Hamiltonian"
   ]
  },
  {
   "cell_type": "code",
   "execution_count": null,
   "metadata": {},
   "outputs": [],
   "source": []
  },
  {
   "cell_type": "markdown",
   "metadata": {},
   "source": [
    "### Codercise H.4.2b - Guessing the ground state"
   ]
  },
  {
   "cell_type": "code",
   "execution_count": null,
   "metadata": {},
   "outputs": [],
   "source": []
  }
 ],
 "metadata": {
  "kernelspec": {
   "display_name": "Python 3",
   "language": "python",
   "name": "python3"
  },
  "language_info": {
   "name": "python",
   "version": "3.10.0"
  }
 },
 "nbformat": 4,
 "nbformat_minor": 2
}
