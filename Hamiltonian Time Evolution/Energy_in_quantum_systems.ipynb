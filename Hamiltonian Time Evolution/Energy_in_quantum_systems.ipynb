{
 "cells": [
  {
   "cell_type": "markdown",
   "metadata": {},
   "source": [
    "### Codercise H.4.1a - Evolution of two qubits"
   ]
  },
  {
   "cell_type": "code",
   "execution_count": null,
   "metadata": {},
   "outputs": [],
   "source": [
    "n_bits = 2\n",
    "dev = qml.device(\"default.qubit\", wires=n_bits)\n",
    "\n",
    "@qml.qnode(dev)\n",
    "def zz_circuit(alpha, time, init):\n",
    "    \"\"\"Circuit for evolving two electrons with a ZZ interaction.\n",
    "    \n",
    "    Args:\n",
    "        alpha (float): The strength of the interaction.\n",
    "        time (float): The time we evolve the electron wavefunction for.\n",
    "        init (numpy.array(int)): An initial state specified by two bits [x, y]. Prepare the\n",
    "            system in this state prior to applying the time evolution circuit.\n",
    "\n",
    "    Returns: \n",
    "        array[float]: Probabilities for observing different outcomes.\n",
    "    \"\"\"\n",
    "\n",
    "    ##################\n",
    "    # YOUR CODE HERE #\n",
    "    ##################\n",
    "    qml.BasisState(init,wires=range(n_bits))\n",
    "    qml.CNOT(wires=[0,1])\n",
    "    qml.RZ(2*alpha*time,wires=1)\n",
    "    qml.CNOT(wires=[0,1])\n",
    "    return qml.probs(wires=range(n_bits))\n"
   ]
  },
  {
   "cell_type": "markdown",
   "metadata": {},
   "source": [
    "### Codercise H.4.1b - An Ising gate"
   ]
  },
  {
   "cell_type": "code",
   "execution_count": null,
   "metadata": {},
   "outputs": [],
   "source": [
    "n_bits = 2\n",
    "dev = qml.device(\"default.qubit\", wires=n_bits)\n",
    "\n",
    "@qml.qnode(dev)\n",
    "def ising_circuit(alpha, time, init):\n",
    "    \"\"\"Circuit for evolving two electrons with a ZZ interaction\n",
    "    using an Ising gate\n",
    "    \n",
    "    Args:\n",
    "        alpha (float): The strength of the interaction.\n",
    "        time (float): The time we evolve the electron wavefunction for.\n",
    "        init (numpy.array(int)): An initial state specified by two bits [x, y]. Prepare the\n",
    "            system in this state prior to applying the time evolution circuit.\n",
    "\n",
    "    Returns: \n",
    "        np.tensor: Output state.\n",
    "    \"\"\"\n",
    "    ##################\n",
    "    # YOUR CODE HERE #\n",
    "    ##################\n",
    "    qml.BasisState(init,wires=range(n_bits))\n",
    "    qml.IsingZZ(phi=2*alpha*time,wires=range(n_bits))\n",
    "    return qml.state()\n"
   ]
  },
  {
   "cell_type": "markdown",
   "metadata": {},
   "source": [
    "### Codercise H.4.1c - Built-in evolution"
   ]
  },
  {
   "cell_type": "code",
   "execution_count": null,
   "metadata": {},
   "outputs": [],
   "source": [
    "n_bits = 2\n",
    "dev = qml.device(\"default.qubit\", wires=n_bits)\n",
    "\n",
    "@qml.qnode(dev)\n",
    "def ZZ_evolve(alpha, time, init):\n",
    "    \"\"\"Circuit for evolving two electrons with a ZZ interaction\n",
    "    using qml.evolve\n",
    "    \n",
    "    Args:\n",
    "        alpha (float): The strength of the interaction.\n",
    "        time (float): The time we evolve the electron wave function for.\n",
    "        init (numpy.array(int)): An initial state specified by two bits [x, y]. Prepare the\n",
    "            system in this state prior to applying the time evolution circuit.\n",
    "\n",
    "    Returns: \n",
    "        np.tensor: Output state.\n",
    "    \"\"\"\n",
    "    ##################\n",
    "    # YOUR CODE HERE #\n",
    "    ##################\n",
    "    qml.BasisState(state=init,wires=range(n_bits))\n",
    "    qml.evolve(alpha*qml.PauliZ(0) @ qml.PauliZ(1) ,coeff=time)\n",
    "    return qml.state()\n"
   ]
  },
  {
   "cell_type": "markdown",
   "metadata": {},
   "source": [
    "### Codercise H.4.2a - Building the Graph Hamiltonian"
   ]
  },
  {
   "cell_type": "code",
   "execution_count": null,
   "metadata": {},
   "outputs": [],
   "source": [
    "n_bits = 5\n",
    "dev = qml.device(\"default.qubit\", wires=n_bits)\n",
    "    \n",
    "##################\n",
    "# YOUR CODE HERE #\n",
    "##################\n",
    "coeffs = [1] # MODIFY THIS\n",
    "obs = [qml.PauliZ(0)] # MODIFY THIS\n",
    "H = qml.dot(coeffs, obs)\n",
    "\n",
    "@qml.qnode(dev)\n",
    "def energy(init):\n",
    "    \"\"\"Circuit for measuring expectation value of Hamiltonian in a given state.\n",
    "    \n",
    "    Args:\n",
    "        init (numpy.array(int)): An initial computational basis state, specified by five bits.\n",
    "\n",
    "    Returns: \n",
    "        float: Expectation value of the Hamiltonian H.\n",
    "    \"\"\"\n",
    "    qml.BasisState(init, wires=range(n_bits))\n",
    "    coeffs = [1, 1, 1, 1]\n",
    "    obs=[qml.PauliZ(0) @ qml.PauliZ(1),\n",
    "         qml.PauliZ(1) @ qml.PauliZ(2),\n",
    "         qml.PauliZ(1) @ qml.PauliZ(3),\n",
    "         qml.PauliZ(3) @ qml.PauliZ(4)]\n",
    "    H = qml.Hamiltonian(coeffs, obs)\n",
    "    return qml.expval(H)\n"
   ]
  },
  {
   "cell_type": "markdown",
   "metadata": {},
   "source": [
    "### Codercise H.4.2b - Guessing the ground state"
   ]
  },
  {
   "cell_type": "code",
   "execution_count": null,
   "metadata": {},
   "outputs": [],
   "source": [
    "my_guess1 = np.array([0,1,0,0,1]) # MODIFY THIS\n",
    "my_guess2 = np.array([1,0,1,1,0]) # MODIFY THIS\n",
    "\n",
    "print(\"The expected energy for\", my_guess1, \"is\", energy(my_guess1), \".\")\n",
    "print(\"The expected energy for\", my_guess2, \"is\", energy(my_guess2), \".\")\n"
   ]
  }
 ],
 "metadata": {
  "kernelspec": {
   "display_name": "Python 3",
   "language": "python",
   "name": "python3"
  },
  "language_info": {
   "name": "python",
   "version": "3.10.0"
  }
 },
 "nbformat": 4,
 "nbformat_minor": 2
}
