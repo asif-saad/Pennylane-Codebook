{
 "cells": [
  {
   "cell_type": "markdown",
   "metadata": {},
   "source": [
    "### Codercise H.2.1 - Unitary or not?"
   ]
  },
  {
   "cell_type": "code",
   "execution_count": null,
   "metadata": {},
   "outputs": [],
   "source": [
    "def unitary_check(operator):\n",
    "    \"\"\"Checks if a complex-valued matrix is unitary.\n",
    "    \n",
    "    Args:\n",
    "        operator (array[complex]): A square complex-valued array.\n",
    "        \n",
    "    Returns: \n",
    "        bool: Whether the matrix is unitary or not.\n",
    "    \"\"\"\n",
    "    ##################\n",
    "    # YOUR CODE HERE #\n",
    "    ##################\n",
    "    return np.allclose(np.transpose(np.conjugate(operator)) @ operator, np.identity(operator.shape[0]) )\n"
   ]
  },
  {
   "cell_type": "markdown",
   "metadata": {},
   "source": [
    "### Codercise H.2.2 - Only good unitaries allowed"
   ]
  },
  {
   "cell_type": "code",
   "execution_count": null,
   "metadata": {},
   "outputs": [],
   "source": [
    "n_bits = 1\n",
    "dev = qml.device(\"default.qubit\", wires=n_bits)\n",
    "\n",
    "@qml.qnode(dev)\n",
    "def unitary_circuit(operator):\n",
    "    \"\"\"Applies a matrix to the state if is unitary and correctly sized.\n",
    "    \n",
    "    Args:\n",
    "        operator (array[complex]): A square complex-valued array.\n",
    "\n",
    "    Returns:\n",
    "        array[complex]: The state of the quantum system, after applying the\n",
    "        operator, if valid.\n",
    "    \"\"\"\n",
    "    if unitary_check(operator) and operator.shape == (2**n_bits, 2**n_bits):\n",
    "        qml.QubitUnitary(operator, wires=range(n_bits))\n",
    "    return qml.state()\n"
   ]
  }
 ],
 "metadata": {
  "kernelspec": {
   "display_name": "Python 3",
   "language": "python",
   "name": "python3"
  },
  "language_info": {
   "name": "python",
   "version": "3.10.0"
  }
 },
 "nbformat": 4,
 "nbformat_minor": 2
}
