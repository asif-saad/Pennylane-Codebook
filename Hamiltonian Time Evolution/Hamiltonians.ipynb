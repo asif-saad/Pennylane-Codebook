{
 "cells": [
  {
   "cell_type": "markdown",
   "metadata": {},
   "source": [
    "### Codercise H.3.1a - Rotation as exponential"
   ]
  },
  {
   "cell_type": "code",
   "execution_count": null,
   "metadata": {},
   "outputs": [],
   "source": [
    "dev = qml.device(\"default.qubit\", wires=1)\n",
    "\n",
    "@qml.qnode(dev)\n",
    "def evolve_rotation(B, time):\n",
    "    \"\"\"Simulates an electron (initial state |0>) in a magnetic field, using a \n",
    "    Z rotation.\n",
    "    \n",
    "    Args:\n",
    "        B (float): The strength of the field, assumed to point in the z direction.\n",
    "        time (float): The time we evolve the electron state for.\n",
    "\n",
    "    Returns:\n",
    "        array[complex]: The state of the system after evolution.\n",
    "    \"\"\"\n",
    "    e = 1.6e-19\n",
    "    m_e = 9.1e-31\n",
    "    alpha = B*e/(2*m_e)\n",
    "    ##################\n",
    "    # YOUR CODE HERE #\n",
    "    ##################\n",
    "    qml.RZ(-2*alpha*time,wires=0)\n",
    "    return qml.state()\n"
   ]
  },
  {
   "cell_type": "markdown",
   "metadata": {},
   "source": [
    "### Codercise H.3.1b - Evolving the magnet Hamiltonian"
   ]
  },
  {
   "cell_type": "code",
   "execution_count": null,
   "metadata": {},
   "outputs": [],
   "source": [
    "dev = qml.device(\"default.qubit\", wires=1)\n",
    "\n",
    "@qml.qnode(dev)\n",
    "def evolve_magnetic(B, time):\n",
    "    \"\"\"Simulates an electron (initial state |0>) in a magnetic field, using qml.evolve\n",
    "    \n",
    "    Args:\n",
    "        B (float): The strength of the field, assumed to point in the z direction.\n",
    "        time (float): The time we evolve the electron state for.\n",
    "\n",
    "    Returns:\n",
    "        array[complex]: The state of the system after evolution.\n",
    "    \"\"\"\n",
    "    e = 1.6e-19\n",
    "    m_e = 9.1e-31\n",
    "    alpha = B*e/(2*m_e)\n",
    "    ##################\n",
    "    # YOUR CODE HERE #\n",
    "    ##################\n",
    "    gate=-alpha*qml.Z(wires=0)\n",
    "    qml.evolve(gate,coeff=time)\n",
    "\n",
    "    return qml.state()\n",
    "\n",
    "B, t = 0.1, 0.6\n",
    "if np.allclose(evolve_rotation(B, t), evolve_magnetic(B, t)):\n",
    "    print(\"The two circuits give the same answer!\")"
   ]
  },
  {
   "cell_type": "markdown",
   "metadata": {},
   "source": [
    "### Codercise H.3.1d - Plotting the evolution"
   ]
  },
  {
   "cell_type": "code",
   "execution_count": null,
   "metadata": {},
   "outputs": [],
   "source": [
    "##################\n",
    "# HIT SUBMIT FOR #\n",
    "# PLOTTING MAGIC #\n",
    "################## \n"
   ]
  },
  {
   "cell_type": "markdown",
   "metadata": {},
   "source": [
    "### Codercise H.3.1e - Evolving a superposition"
   ]
  },
  {
   "cell_type": "code",
   "execution_count": null,
   "metadata": {},
   "outputs": [],
   "source": [
    "dev = qml.device(\"default.qubit\", wires=1)\n",
    "\n",
    "def evolve_plus_state(B, time):\n",
    "    \"\"\"Simulates an electron (initial state |+>) in a magnetic field.\n",
    "    \n",
    "    Args:\n",
    "        B (float): The strength of the field, assumed to point in the z direction.\n",
    "        time (float): The time we evolve the electron state for.\n",
    "    \"\"\"\n",
    "    e = 1.6e-19\n",
    "    m_e = 9.1e-31\n",
    "    alpha = B*e/(2*m_e)\n",
    "    ##################\n",
    "    # YOUR CODE HERE #\n",
    "    ##################\n",
    "    qml.Hadamard(wires=0)\n",
    "    qml.RZ(-2*alpha*time,wires=0)\n",
    "\n",
    "@qml.qnode(dev)\n",
    "def mag_z_plus_X(B, time):\n",
    "    \"\"\"Simulates an electron (initial state |+>) in a magnetic field and returns <X>.\n",
    "    \n",
    "    Args:\n",
    "        B (float): The strength of the field, assumed to point in the z direction.\n",
    "        time (float): The time we evolve the electron state for.\n",
    "\n",
    "    Returns:\n",
    "        float: Expectation value for the Pauli X operator.\n",
    "    \"\"\"\n",
    "    evolve_plus_state(B, time)\n",
    "    return qml.expval(qml.PauliX(0))\n",
    "\n",
    "@qml.qnode(dev)\n",
    "def mag_z_plus_Y(B, time):\n",
    "    \"\"\"Simulates an electron (initial state |+>) in a magnetic field and returns <Y>.\n",
    "    \n",
    "    Args:\n",
    "        B (float): The strength of the field, assumed to point in the z direction.\n",
    "        time (float): The time we evolve the electron state for.\n",
    "\n",
    "    Returns:\n",
    "        float: Expectation value for the Pauli X operator.\n",
    "    \"\"\"\n",
    "    evolve_plus_state(B, time)\n",
    "    return qml.expval(qml.PauliY(0))\n",
    "\n",
    "##################\n",
    "# HIT SUBMIT FOR #\n",
    "# PLOTTING MAGIC #\n",
    "##################\n"
   ]
  }
 ],
 "metadata": {
  "kernelspec": {
   "display_name": "Python 3",
   "language": "python",
   "name": "python3"
  },
  "language_info": {
   "name": "python",
   "version": "3.10.0"
  }
 },
 "nbformat": 4,
 "nbformat_minor": 2
}
