{
 "cells": [
  {
   "cell_type": "markdown",
   "metadata": {},
   "source": [
    "### Codercise H.1.1 - A deterministic black box"
   ]
  },
  {
   "cell_type": "code",
   "execution_count": null,
   "metadata": {},
   "outputs": [],
   "source": [
    "input = [1, 1, 0] # MODIFY EXAMPLE\n",
    "output = secret_box(input)\n",
    "print(\"The result of applying the secret box to \", input, \"is \", output)\n",
    "# We will secretly apply the function and return the result!\n",
    "\n",
    "def deterministic_box(bits):\n",
    "    \"\"\"Guess the secret deterministic rule.\n",
    "    \n",
    "    Args:\n",
    "        bits (list[int]): A list of bits representing an initial condition.\n",
    "         \n",
    "    Returns: \n",
    "        list[int]: The output bits measured after deterministic evolution.\n",
    "    \"\"\"\n",
    "    return (bits[1:] + [bits[0]])"
   ]
  },
  {
   "cell_type": "markdown",
   "metadata": {},
   "source": [
    "### Codercise H.1.2 - A random black box"
   ]
  },
  {
   "cell_type": "code",
   "execution_count": null,
   "metadata": {},
   "outputs": [],
   "source": [
    "input = 0 # MODIFY EXAMPLE\n",
    "output = secret_box(input)\n",
    "trials = 100  # INCREASE TRIALS TO IMPROVE APPROXIMATION\n",
    "print(\"On input\", input, \"the approximate probability distribution is\", output)\n",
    "# We will secretly apply the function and return the result!\n",
    "\n",
    "def random_box(bit):\n",
    "    \"\"\"Guess the secret random rule.\n",
    "    \n",
    "    Args:\n",
    "        bit (int): A bit representing the initial condition.\n",
    "         \n",
    "    Returns: \n",
    "        int: The output bit measured after random evolution.\n",
    "    \"\"\"\n",
    "    return np.random.choice(2)\n",
    "\n"
   ]
  },
  {
   "cell_type": "markdown",
   "metadata": {},
   "source": [
    "### Codercise H.1.3 - A quantum box"
   ]
  },
  {
   "cell_type": "code",
   "execution_count": null,
   "metadata": {},
   "outputs": [],
   "source": [
    "dev = qml.device(\"default.qubit\", wires=1)\n",
    "\n",
    "input = 0 # MODIFY EXAMPLE\n",
    "reps = 1\n",
    "output = secret_box(input, reps)\n",
    "print(\"The probability distribution after applying the secret box to \", input)\n",
    "print(\"a total of \", reps, \"time(s) is \", output)\n",
    "# We will secretly apply the function and return the result!\n",
    "\n",
    "@qml.qnode(dev)\n",
    "def quantum_box(bit, reps):\n",
    "    \"\"\"Implements the secret quantum rule on a single (qu)bit.\n",
    "    \n",
    "    Args:\n",
    "        bit (int): A bit representing an initial condition.\n",
    "        reps (int): Number of times gate is repeated.\n",
    "\n",
    "    Returns:\n",
    "        list[float]: The output probability distribution.\n",
    "    \"\"\"\n",
    "    if bit == 1:\n",
    "        qml.PauliX(wires=0)\n",
    "    for _ in range(reps):\n",
    "        ##################\n",
    "        # YOUR CODE HERE #\n",
    "        ##################\n",
    "        qml.Hadamard(wires=0)\n",
    "    return qml.probs(wires=0)\n",
    "\n"
   ]
  }
 ],
 "metadata": {
  "kernelspec": {
   "display_name": "Python 3",
   "language": "python",
   "name": "python3"
  },
  "language_info": {
   "name": "python",
   "version": "3.10.0"
  }
 },
 "nbformat": 4,
 "nbformat_minor": 2
}
